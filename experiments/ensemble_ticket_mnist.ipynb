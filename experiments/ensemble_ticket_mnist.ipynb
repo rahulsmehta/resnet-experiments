{
 "cells": [
  {
   "cell_type": "code",
   "execution_count": 1,
   "metadata": {},
   "outputs": [
    {
     "name": "stderr",
     "output_type": "stream",
     "text": [
      "/home/ec2-user/anaconda3/envs/pytorch_p36/lib/python3.6/site-packages/matplotlib/__init__.py:1067: UserWarning: Duplicate key in file \"/home/ec2-user/.config/matplotlib/matplotlibrc\", line #2\n",
      "  (fname, cnt))\n",
      "/home/ec2-user/anaconda3/envs/pytorch_p36/lib/python3.6/site-packages/matplotlib/__init__.py:1067: UserWarning: Duplicate key in file \"/home/ec2-user/.config/matplotlib/matplotlibrc\", line #3\n",
      "  (fname, cnt))\n"
     ]
    }
   ],
   "source": [
    "%matplotlib inline\n",
    "import matplotlib.pylab as plt\n",
    "import torchvision.models as models\n",
    "import torch.nn as nn\n",
    "import torch\n",
    "import numpy as np\n",
    "import pandas as pd\n",
    "import torchvision\n",
    "import torchvision.transforms as transforms\n",
    "import torch.nn.functional as F\n",
    "import torch.optim as optim"
   ]
  },
  {
   "cell_type": "code",
   "execution_count": 2,
   "metadata": {},
   "outputs": [
    {
     "name": "stdout",
     "output_type": "stream",
     "text": [
      "/home/ec2-user/distiller\n"
     ]
    }
   ],
   "source": [
    "import os\n",
    "import sys\n",
    "module_path = os.path.abspath(os.path.join('../..'))\n",
    "print(module_path)\n",
    "sys.path.append(module_path)\n",
    "import distiller"
   ]
  },
  {
   "cell_type": "code",
   "execution_count": 53,
   "metadata": {},
   "outputs": [],
   "source": [
    "BATCH_SIZE = 128\n",
    "\n",
    "transform = transforms.Compose(\n",
    "    [transforms.ToTensor(),\n",
    "     transforms.Normalize((0.5, 0.5, 0.5), (0.5, 0.5, 0.5))\n",
    "     ])\n",
    "\n",
    "trainset = torchvision.datasets.MNIST(root='./mnist-data', train=True,\n",
    "                                     download=True, transform=transform)\n",
    "trainloader = torch.utils.data.DataLoader(trainset, batch_size=BATCH_SIZE,\n",
    "                                         shuffle=True, num_workers=2)\n",
    "\n",
    "testset = torchvision.datasets.MNIST(root='./mnist-data', train=False,\n",
    "                                     download=True, transform=transform)\n",
    "testloader = torch.utils.data.DataLoader(testset, batch_size=BATCH_SIZE,\n",
    "                                         shuffle=False, num_workers=2)"
   ]
  },
  {
   "cell_type": "code",
   "execution_count": 55,
   "metadata": {},
   "outputs": [],
   "source": [
    "from IPython.display import display, clear_output\n",
    "\n",
    "def plot_learning(plot_handles, ylabel):\n",
    "    plt.legend(handles=plot_handles, loc=\"center right\")\n",
    "    plt.xlabel(\"Iterations\")\n",
    "    plt.ylabel(ylabel)\n",
    "    \n",
    "def plot(log_every, val_log_every, train_loss, val_loss, title):\n",
    "    clear_output(wait=False)\n",
    "    plt.gcf().clear()\n",
    "    iters = np.arange(0,len(train_loss))*log_every\n",
    "    iters_val = np.arange(0,len(val_loss))*val_log_every\n",
    "    train_plot, = plt.plot(iters, train_loss, 'r', label=\"training\")\n",
    "    val_plot, = plt.plot(iters, val_loss, 'b', label=\"validation\")\n",
    "    \n",
    "    plot_learning([train_plot, val_plot], \"Loss\")\n",
    "    plt.title(title)\n",
    "\n",
    "    display(plt.gcf())"
   ]
  },
  {
   "cell_type": "code",
   "execution_count": 60,
   "metadata": {},
   "outputs": [],
   "source": [
    "class LeNet(nn.Module):\n",
    "    def __init__(self):\n",
    "        super(LeNet, self).__init__()\n",
    "        self.conv1 = nn.Conv2d(1, 20, 5, 1)\n",
    "        self.conv2 = nn.Conv2d(20, 50, 5, 1)\n",
    "        self.fc1 = nn.Linear(4*4*50, 500)\n",
    "        self.fc2 = nn.Linear(500, 10)\n",
    "        self.mask_dict = {}\n",
    "    \n",
    "    def set_mask(self, mask_dict):\n",
    "        self.mask_dict = mask_dict\n",
    "    \n",
    "    def mask_params(self, mask_dict=None):\n",
    "        if mask_dict is not None:\n",
    "            self.mask_dict = mask_dict\n",
    "        for param_name, mask in self.mask_dict.items():\n",
    "            varname, wb = param_name.split('.')[0], param_name.split('.')[1]\n",
    "            if wb == 'bias':\n",
    "                continue\n",
    "            param = getattr(self, varname)\n",
    "            mask = mask.float()\n",
    "            mask = mask.to(device)\n",
    "            param.weight = nn.Parameter(param.weight * mask)\n",
    "            setattr(self, varname, param)\n",
    "\n",
    "    def forward(self, x):\n",
    "        x = F.relu(self.conv1(x))\n",
    "        x = F.max_pool2d(x, 2, 2)\n",
    "        \n",
    "        x = F.relu(self.conv2(x))\n",
    "        x = F.max_pool2d(x, 2, 2)\n",
    "        \n",
    "        x = x.view(-1, 4*4*50)\n",
    "        x = F.relu(self.fc1(x))\n",
    "        \n",
    "        x = self.fc2(x)\n",
    "        return F.log_softmax(x, dim=1)"
   ]
  },
  {
   "cell_type": "code",
   "execution_count": 71,
   "metadata": {},
   "outputs": [
    {
     "name": "stdout",
     "output_type": "stream",
     "text": [
      "Using cuda\n"
     ]
    }
   ],
   "source": [
    "device = 'cuda' if torch.cuda.is_available() else 'cpu'\n",
    "net = LeNet()\n",
    "net = net.to(device)\n",
    "print('Using {}'.format(device))\n",
    "torch.save(net.state_dict(), './checkpoints/lenet_init_e1')"
   ]
  },
  {
   "cell_type": "code",
   "execution_count": 72,
   "metadata": {},
   "outputs": [],
   "source": [
    "criterion = nn.CrossEntropyLoss()\n",
    "optimizer = optim.SGD(net.parameters(), lr=1e-3, momentum=0.9, weight_decay=5e-4)"
   ]
  },
  {
   "cell_type": "code",
   "execution_count": 73,
   "metadata": {},
   "outputs": [
    {
     "data": {
      "image/png": "[encoded data removed]",
      "text/plain": [
       "<Figure size 432x288 with 1 Axes>"
      ]
     },
     "metadata": {},
     "output_type": "display_data"
    },
    {
     "name": "stdout",
     "output_type": "stream",
     "text": [
      "Finished Training\n"
     ]
    },
    {
     "data": {
      "image/png": "[encoded data removed]",
      "text/plain": [
       "<Figure size 432x288 with 1 Axes>"
      ]
     },
     "metadata": {},
     "output_type": "display_data"
    }
   ],
   "source": [
    "running_loss = 0.0\n",
    "train_loss = []\n",
    "val_loss = []\n",
    "PRINT = 50\n",
    "N_EPOCH = 5\n",
    "\n",
    "val_loss = []\n",
    "train_loss = []\n",
    "train_acc = []\n",
    "val_acc = []\n",
    "\n",
    "for epoch in range(N_EPOCH):  # loop over the dataset multiple times\n",
    "    print('Starting epoch {}'.format(epoch))\n",
    "    for i, data in enumerate(trainloader, 0):\n",
    "        # get the inputs\n",
    "        inputs, targets = data\n",
    "        inputs, targets = inputs.to(device), targets.to(device)\n",
    "        \n",
    "        # zero the parameter gradients\n",
    "        optimizer.zero_grad()\n",
    "\n",
    "        # forward + backward + optimize\n",
    "        outputs = net(inputs)\n",
    "        loss = criterion(outputs, targets)\n",
    "        loss.backward()\n",
    "        optimizer.step()\n",
    "    \n",
    "        # print statistics\n",
    "        running_loss += loss.item()\n",
    "        if (i+1) % PRINT == 0:    # print every PRINT mini-batches\n",
    "            train_loss.append(running_loss/PRINT)\n",
    "            \n",
    "            pred = outputs.argmax(dim=1)\n",
    "            correct = (targets.eq(pred)).sum()\n",
    "            acc = correct.float()/len(targets)\n",
    "            train_acc.append(acc.item())\n",
    "#             print('[%d, %5d] loss: %.3f' %\n",
    "#                 (epoch + 1, i + 1, running_loss / PRINT))\n",
    "\n",
    "            net.eval()\n",
    "            tcorrect = 0.\n",
    "            with torch.no_grad():\n",
    "                for test_idx, (test_inputs, test_labels) in enumerate(testloader, 0):\n",
    "                    test_inputs, test_labels = test_inputs.to(device), test_labels.to(device)\n",
    "                    test_outputs = net(test_inputs)\n",
    "                    test_loss = criterion(test_outputs, test_labels)\n",
    "\n",
    "                    test_pred = test_outputs.argmax(dim=1)\n",
    "                    test_correct = (test_labels.eq(test_pred)).sum()\n",
    "                    tcorrect += test_correct.float()\n",
    "                print(tcorrect)\n",
    "                print\n",
    "                val_acc.append(tcorrect.float()/(len(testloader)*BATCH_SIZE))\n",
    "                plot(PRINT, PRINT, train_acc, val_acc, title='accuracy')\n",
    "            net.train()   \n",
    "            \n",
    "            running_loss = 0.0\n",
    "# Compute validation accuracy\n",
    "    \n",
    "        \n",
    "#         hl, = plt.plot([], [])\n",
    "\n",
    "# def update_line(hl, new_data):\n",
    "#     hl.set_xdata(numpy.append(hl.get_xdata(), new_data))\n",
    "#     hl.set_ydata(numpy.append(hl.get_ydata(), new_data))\n",
    "#     plt.draw()\n",
    "\n",
    "print('Finished Training')"
   ]
  },
  {
   "cell_type": "code",
   "execution_count": 74,
   "metadata": {},
   "outputs": [],
   "source": [
    "torch.save(net.state_dict(), './checkpoints/lenet_trained_e2')"
   ]
  },
  {
   "cell_type": "code",
   "execution_count": 155,
   "metadata": {},
   "outputs": [],
   "source": [
    "# model.load_state_dict(torch.load(PATH))\n",
    "# model.eval()\n",
    "net = LeNet()\n",
    "net.load_state_dict(torch.load('./checkpoints/lenet_trained_e2'))\n",
    "net = net.to(device)"
   ]
  },
  {
   "cell_type": "code",
   "execution_count": 76,
   "metadata": {},
   "outputs": [],
   "source": [
    "sparsities = np.arange(0, 1.001, 0.2)\n",
    "def test_func(model):\n",
    "    with torch.no_grad():\n",
    "        running_loss = 0.\n",
    "        tcorrect = 0.\n",
    "        for test_idx, (test_inputs, test_labels) in enumerate(testloader, 0):\n",
    "            test_inputs, test_labels = test_inputs.to(device), test_labels.to(device)\n",
    "            test_outputs = model(test_inputs)\n",
    "            test_loss = criterion(test_outputs, test_labels)\n",
    "            running_loss += test_loss.item()\n",
    "            \n",
    "            test_pred = test_outputs.argmax(dim=1)\n",
    "            test_correct = (test_labels.eq(test_pred)).sum()\n",
    "            tcorrect += test_correct.float()\n",
    "        acc = (tcorrect.float()/(len(testloader)*BATCH_SIZE)).item()\n",
    "        loss = running_loss / len(testloader)\n",
    "        return acc, acc, loss"
   ]
  },
  {
   "cell_type": "code",
   "execution_count": 78,
   "metadata": {},
   "outputs": [],
   "source": [
    "# sensitivities = \\\n",
    "#     distiller.perform_sensitivity_analysis(model=net, net_params=list(net.state_dict().keys()), sparsities=sparsities, test_func=test_func, group='element')"
   ]
  },
  {
   "cell_type": "code",
   "execution_count": 80,
   "metadata": {},
   "outputs": [],
   "source": [
    "# distiller.sensitivities_to_png(sensitivities, './experiment_data/lenet_e2_sensitivity.png')"
   ]
  },
  {
   "cell_type": "code",
   "execution_count": 161,
   "metadata": {},
   "outputs": [
    {
     "data": {
      "text/plain": [
       "(0.9439280033111572, 0.9439280033111572, 0.17232770970256267)"
      ]
     },
     "execution_count": 161,
     "metadata": {},
     "output_type": "execute_result"
    }
   ],
   "source": [
    "from copy import deepcopy\n",
    "net_cpy = deepcopy(net)\n",
    "sparsity_levels = { 'fc1.weight': 0.7, 'fc2.weight': 0.7, 'conv1.weight': 0.0, 'conv2.weight': 0.0 }\n",
    "pruner = distiller.pruning.SparsityLevelParameterPruner(name=\"sparsity_pruner\", levels=sparsity_levels)\n",
    "policy = distiller.PruningPolicy(pruner, pruner_args=None)\n",
    "scheduler = distiller.CompressionScheduler(net_cpy)\n",
    "scheduler.add_policy(policy, epochs=[0])\n",
    "scheduler.on_epoch_begin(0)\n",
    "scheduler.apply_mask()\n",
    "test_func(model=net_cpy)"
   ]
  },
  {
   "cell_type": "code",
   "execution_count": 162,
   "metadata": {},
   "outputs": [
    {
     "data": {
      "text/plain": [
       "(0.9575752019882202, 0.9575752019882202, 0.10095055370084659)"
      ]
     },
     "execution_count": 162,
     "metadata": {},
     "output_type": "execute_result"
    }
   ],
   "source": [
    "net = LeNet()\n",
    "net.load_state_dict(torch.load('./checkpoints/lenet_trained_e2'))\n",
    "net = net.to(device)\n",
    "# net.set_conv_mask(mask_dict=masks)\n",
    "test_func(model=net)"
   ]
  },
  {
   "cell_type": "code",
   "execution_count": 25,
   "metadata": {},
   "outputs": [
    {
     "data": {
      "text/plain": [
       "(0.0947389230132103, 0.0947389230132103, 2.302871151815487)"
      ]
     },
     "execution_count": 25,
     "metadata": {},
     "output_type": "execute_result"
    }
   ],
   "source": [
    "net.mask_params(masks)\n",
    "test_func(model=net)"
   ]
  },
  {
   "cell_type": "code",
   "execution_count": 87,
   "metadata": {},
   "outputs": [],
   "source": [
    "def param_count(model, log=False):\n",
    "    state = model.state_dict()\n",
    "    total_params = 0\n",
    "    for param_name in state.keys():\n",
    "        parameter = state[param_name]\n",
    "        _n = torch.norm(parameter, p=0)\n",
    "        if log:\n",
    "            print(param_name, _n)\n",
    "        total_params += _n\n",
    "    return total_params\n",
    "# torch.norm(net_cpy.state_dict()['fc1.weight'], p=0)/torch.norm(net.state_dict()['fc1.weight'], p=0)"
   ]
  },
  {
   "cell_type": "code",
   "execution_count": 163,
   "metadata": {},
   "outputs": [
    {
     "data": {
      "text/plain": [
       "tensor(147580., device='cuda:0')"
      ]
     },
     "execution_count": 163,
     "metadata": {},
     "output_type": "execute_result"
    }
   ],
   "source": [
    "param_count(net_cpy)"
   ]
  },
  {
   "cell_type": "code",
   "execution_count": 164,
   "metadata": {},
   "outputs": [
    {
     "name": "stdout",
     "output_type": "stream",
     "text": [
      "conv1.weight tensor(500., device='cuda:0')\n",
      "conv1.bias tensor(20., device='cuda:0')\n",
      "conv2.weight tensor(25000., device='cuda:0')\n",
      "conv2.bias tensor(50., device='cuda:0')\n",
      "fc1.weight tensor(120000., device='cuda:0')\n",
      "fc1.bias tensor(500., device='cuda:0')\n",
      "fc2.weight tensor(1500., device='cuda:0')\n",
      "fc2.bias tensor(10., device='cuda:0')\n"
     ]
    },
    {
     "data": {
      "text/plain": [
       "tensor(0.3423, device='cuda:0')"
      ]
     },
     "execution_count": 164,
     "metadata": {},
     "output_type": "execute_result"
    }
   ],
   "source": [
    "param_count(net_cpy, log=True)/param_count(net)"
   ]
  },
  {
   "cell_type": "code",
   "execution_count": 22,
   "metadata": {},
   "outputs": [],
   "source": [
    "param_dict = net_cpy.state_dict()\n",
    "masks = {}\n",
    "for param_name, param in param_dict.items():\n",
    "    m = (param == 0)\n",
    "    masks[param_name] = m"
   ]
  },
  {
   "cell_type": "code",
   "execution_count": 36,
   "metadata": {},
   "outputs": [],
   "source": [
    "def get_mask_dict(pruned_model):\n",
    "    param_dict = pruned_model.state_dict()\n",
    "    _masks = {}\n",
    "    for param_name, param in param_dict.items():\n",
    "        m = (param != 0)\n",
    "        _masks[param_name] = m\n",
    "    return _masks"
   ]
  },
  {
   "cell_type": "code",
   "execution_count": 182,
   "metadata": {},
   "outputs": [],
   "source": [
    "from distiller import PruningPolicy, CompressionScheduler\n",
    "from distiller.pruning import SparsityLevelParameterPruner\n",
    "\n",
    "def prune_model(_model, old_mask = {}, levels={ 'fc1.weight': 0.2, 'fc2.weight': 0.2, 'conv1.weight': 0.0, 'conv2.weight': 0.0 }):\n",
    "    if old_mask == {}:\n",
    "        model = deepcopy(_model)\n",
    "        pruner = SparsityLevelParameterPruner(name='sparsity_pruner', levels=levels)\n",
    "        policy = PruningPolicy(pruner, pruner_args=None)\n",
    "        scheduler = distiller.CompressionScheduler(model)\n",
    "        scheduler.add_policy(policy, epochs=[0])\n",
    "        scheduler.on_epoch_begin(0)\n",
    "        scheduler.apply_mask()\n",
    "        return model\n",
    "    else:\n",
    "        model = deepcopy(_model)\n",
    "        for param_name, mask in old_mask.items():\n",
    "            name, wb = param_name.split('.')[0], param_name.split('.')[1]\n",
    "            param = getattr(model, name)\n",
    "            if wb == 'bias':\n",
    "                continue\n",
    "            param[mask] = 1e100\n",
    "        pruner = SparsityLevelParameterPruner(name='sparsity_pruner', levels=levels)\n",
    "        policy = PruningPolicy(pruner, pruner_args=None)\n",
    "        scheduler = distiller.CompressionScheduler(model)\n",
    "        scheduler.add_policy(policy, epochs=[0])\n",
    "        scheduler.on_epoch_begin(0)\n",
    "        scheduler.apply_mask()\n",
    "        new_masks = {}\n",
    "        for param_name, param in model.named_parameters():\n",
    "            new_mask = (param != 0)\n",
    "            _old_mask = old_mask[param_name]\n",
    "            combined = new_mask + _old_mask\n",
    "            combined[combined > 1] = 1\n",
    "            new_masks[param_name] = combined\n",
    "        return new_masks"
   ]
  },
  {
   "cell_type": "code",
   "execution_count": 121,
   "metadata": {},
   "outputs": [],
   "source": [
    "desired_sparsity = 0.05\n",
    "pct_to_prune = (1 - desired_sparsity)\n",
    "PRUNE_ROUNDS = 20\n"
   ]
  },
  {
   "cell_type": "code",
   "execution_count": 193,
   "metadata": {},
   "outputs": [
    {
     "data": {
      "text/plain": [
       "tensor([-0.0341, -0.0262,  0.0314,  ..., -0.0268, -0.0310,  0.0344],\n",
       "       device='cuda:0', grad_fn=<IndexBackward>)"
      ]
     },
     "execution_count": 193,
     "metadata": {},
     "output_type": "execute_result"
    }
   ],
   "source": [
    "# masks['fc1.weight']\n",
    "net.fc1.weight[masks['fc1.weight']]"
   ]
  },
  {
   "cell_type": "code",
   "execution_count": 127,
   "metadata": {},
   "outputs": [],
   "source": [
    "z = pct_to_prune**(1./20)"
   ]
  },
  {
   "cell_type": "code",
   "execution_count": 189,
   "metadata": {},
   "outputs": [],
   "source": [
    "ticket = LeNet()\n",
    "# ticket.load_state_dict(torch.load('./checkpoints/lenet_init_e1'))\n",
    "ticket = ticket.to(device)"
   ]
  },
  {
   "cell_type": "code",
   "execution_count": 190,
   "metadata": {},
   "outputs": [
    {
     "data": {
      "image/png": "[encoded data removed]",
      "text/plain": [
       "<Figure size 432x288 with 1 Axes>"
      ]
     },
     "metadata": {},
     "output_type": "display_data"
    },
    {
     "ename": "TypeError",
     "evalue": "only integer tensors of a single element can be converted to an index",
     "output_type": "error",
     "traceback": [
      "\u001b[0;31m---------------------------------------------------------------------------\u001b[0m",
      "\u001b[0;31mTypeError\u001b[0m                                 Traceback (most recent call last)",
      "\u001b[0;32m<ipython-input-190-6ee3aca040f9>\u001b[0m in \u001b[0;36m<module>\u001b[0;34m()\u001b[0m\n\u001b[1;32m     43\u001b[0m             \u001b[0;32mif\u001b[0m \u001b[0;34m(\u001b[0m\u001b[0mi\u001b[0m\u001b[0;34m+\u001b[0m\u001b[0;36m1\u001b[0m\u001b[0;34m)\u001b[0m \u001b[0;34m%\u001b[0m \u001b[0mPRUNE_EVERY\u001b[0m \u001b[0;34m==\u001b[0m \u001b[0;36m0\u001b[0m\u001b[0;34m:\u001b[0m\u001b[0;34m\u001b[0m\u001b[0m\n\u001b[1;32m     44\u001b[0m                 \u001b[0mold_mask\u001b[0m \u001b[0;34m=\u001b[0m \u001b[0mdeepcopy\u001b[0m\u001b[0;34m(\u001b[0m\u001b[0mmask\u001b[0m\u001b[0;34m)\u001b[0m\u001b[0;34m\u001b[0m\u001b[0m\n\u001b[0;32m---> 45\u001b[0;31m                 \u001b[0mpruned\u001b[0m \u001b[0;34m=\u001b[0m \u001b[0mprune_model\u001b[0m\u001b[0;34m(\u001b[0m\u001b[0mticket\u001b[0m\u001b[0;34m,\u001b[0m \u001b[0mold_mask\u001b[0m\u001b[0;34m=\u001b[0m\u001b[0mold_mask\u001b[0m\u001b[0;34m)\u001b[0m\u001b[0;34m\u001b[0m\u001b[0m\n\u001b[0m\u001b[1;32m     46\u001b[0m                 \u001b[0mmask\u001b[0m \u001b[0;34m=\u001b[0m \u001b[0mget_mask_dict\u001b[0m\u001b[0;34m(\u001b[0m\u001b[0mpruned\u001b[0m\u001b[0;34m)\u001b[0m\u001b[0;34m\u001b[0m\u001b[0m\n\u001b[1;32m     47\u001b[0m                 \u001b[0;32mif\u001b[0m \u001b[0mold_mask\u001b[0m \u001b[0;34m!=\u001b[0m \u001b[0;34m{\u001b[0m\u001b[0;34m}\u001b[0m\u001b[0;34m:\u001b[0m\u001b[0;34m\u001b[0m\u001b[0m\n",
      "\u001b[0;32m<ipython-input-182-6e134934acc4>\u001b[0m in \u001b[0;36mprune_model\u001b[0;34m(_model, old_mask, levels)\u001b[0m\n\u001b[1;32m     19\u001b[0m             \u001b[0;32mif\u001b[0m \u001b[0mwb\u001b[0m \u001b[0;34m==\u001b[0m \u001b[0;34m'bias'\u001b[0m\u001b[0;34m:\u001b[0m\u001b[0;34m\u001b[0m\u001b[0m\n\u001b[1;32m     20\u001b[0m                 \u001b[0;32mcontinue\u001b[0m\u001b[0;34m\u001b[0m\u001b[0m\n\u001b[0;32m---> 21\u001b[0;31m             \u001b[0mparam\u001b[0m\u001b[0;34m[\u001b[0m\u001b[0mmask\u001b[0m\u001b[0;34m]\u001b[0m \u001b[0;34m=\u001b[0m \u001b[0;36m1e100\u001b[0m\u001b[0;34m\u001b[0m\u001b[0m\n\u001b[0m\u001b[1;32m     22\u001b[0m         \u001b[0mpruner\u001b[0m \u001b[0;34m=\u001b[0m \u001b[0mSparsityLevelParameterPruner\u001b[0m\u001b[0;34m(\u001b[0m\u001b[0mname\u001b[0m\u001b[0;34m=\u001b[0m\u001b[0;34m'sparsity_pruner'\u001b[0m\u001b[0;34m,\u001b[0m \u001b[0mlevels\u001b[0m\u001b[0;34m=\u001b[0m\u001b[0mlevels\u001b[0m\u001b[0;34m)\u001b[0m\u001b[0;34m\u001b[0m\u001b[0m\n\u001b[1;32m     23\u001b[0m         \u001b[0mpolicy\u001b[0m \u001b[0;34m=\u001b[0m \u001b[0mPruningPolicy\u001b[0m\u001b[0;34m(\u001b[0m\u001b[0mpruner\u001b[0m\u001b[0;34m,\u001b[0m \u001b[0mpruner_args\u001b[0m\u001b[0;34m=\u001b[0m\u001b[0;32mNone\u001b[0m\u001b[0;34m)\u001b[0m\u001b[0;34m\u001b[0m\u001b[0m\n",
      "\u001b[0;31mTypeError\u001b[0m: only integer tensors of a single element can be converted to an index"
     ]
    },
    {
     "data": {
      "image/png": "[encoded data removed]",
      "text/plain": [
       "<Figure size 432x288 with 1 Axes>"
      ]
     },
     "metadata": {},
     "output_type": "display_data"
    }
   ],
   "source": [
    "criterion = nn.CrossEntropyLoss()\n",
    "optimizer = optim.SGD(ticket.parameters(), lr=1e-3, momentum=0.9, weight_decay=5e-4)\n",
    "\n",
    "ticket.train()\n",
    "mask = {}\n",
    "ticket.mask_params()\n",
    "\n",
    "running_loss = 0.0\n",
    "train_loss = []\n",
    "val_loss = []\n",
    "PRINT = 10\n",
    "PLOT_EVERY = 10\n",
    "\n",
    "PRUNE_EVERY = 50\n",
    "PRUNE_START = 500\n",
    "\n",
    "N_EPOCH = 10\n",
    "\n",
    "val_loss = []\n",
    "train_loss = []\n",
    "train_acc = []\n",
    "val_acc = []\n",
    "\n",
    "for epoch in range(N_EPOCH):  # loop over the dataset multiple times\n",
    "    print('Starting epoch {}'.format(epoch))\n",
    "    for i, data in enumerate(trainloader, 0):\n",
    "        # get the inputs\n",
    "        inputs, targets = data\n",
    "        inputs, targets = inputs.to(device), targets.to(device)\n",
    "        \n",
    "        # zero the parameter gradients\n",
    "        optimizer.zero_grad()\n",
    "\n",
    "        # forward + backward + optimize\n",
    "        outputs = ticket(inputs)\n",
    "        loss = criterion(outputs, targets)\n",
    "        loss.backward()\n",
    "        optimizer.step()\n",
    "        \n",
    "        ticket.mask_params(mask)\n",
    "        \n",
    "        if (i+1) > PRUNE_START or epoch > 1:\n",
    "            if (i+1) % PRUNE_EVERY == 0:\n",
    "                old_mask = deepcopy(mask)\n",
    "                pruned = prune_model(ticket, old_mask=old_mask)\n",
    "                mask = get_mask_dict(pruned)\n",
    "                if old_mask != {}:\n",
    "                    print(mask['conv1.weight'] == old_mask['conv1.weight'])\n",
    "                ticket.mask_params(mask)\n",
    "    \n",
    "        # print statistics\n",
    "        running_loss += loss.item()\n",
    "        if (i+1) % PRINT == 0:    # print every PRINT mini-batches\n",
    "            train_loss.append(running_loss/PRINT)\n",
    "            \n",
    "            pred = outputs.argmax(dim=1)\n",
    "            correct = (targets.eq(pred)).sum()\n",
    "            acc = correct.float()/len(targets)\n",
    "            train_acc.append(acc.item())\n",
    "#             print('[%d, %5d] loss: %.3f' %\n",
    "#                 (epoch + 1, i + 1, running_loss / PRINT))\n",
    "\n",
    "            ticket.eval()\n",
    "            tcorrect = 0.\n",
    "            with torch.no_grad():\n",
    "                for test_idx, (test_inputs, test_labels) in enumerate(testloader, 0):\n",
    "                    test_inputs, test_labels = test_inputs.to(device), test_labels.to(device)\n",
    "                    test_outputs = ticket(test_inputs)\n",
    "                    test_loss = criterion(test_outputs, test_labels)\n",
    "\n",
    "                    test_pred = test_outputs.argmax(dim=1)\n",
    "                    test_correct = (test_labels.eq(test_pred)).sum()\n",
    "                    tcorrect += test_correct.float()\n",
    "                print\n",
    "                val_acc.append(tcorrect.float()/(len(testloader)*BATCH_SIZE))\n",
    "                if (i+1) % PLOT_EVERY == 0:\n",
    "                    plot(PRINT, PRINT, train_acc, val_acc, title='accuracy')\n",
    "            ticket.train()   \n",
    "            \n",
    "            running_loss = 0.0\n",
    "            \n",
    "print('Finished retraining')"
   ]
  },
  {
   "cell_type": "code",
   "execution_count": 34,
   "metadata": {},
   "outputs": [
    {
     "data": {
      "text/plain": [
       "469"
      ]
     },
     "execution_count": 34,
     "metadata": {},
     "output_type": "execute_result"
    }
   ],
   "source": [
    "len(trainloader)"
   ]
  },
  {
   "cell_type": "code",
   "execution_count": 210,
   "metadata": {},
   "outputs": [],
   "source": [
    "m1 = masks['conv1.weight']\n",
    "m1 = m1.to(device)\n",
    "param = net.state_dict()['conv1.weight']\n",
    "param = param.to(device)"
   ]
  },
  {
   "cell_type": "code",
   "execution_count": 13,
   "metadata": {},
   "outputs": [],
   "source": [
    "k, p = 5, .75\n",
    "z = (p**(1/k))"
   ]
  },
  {
   "cell_type": "code",
   "execution_count": 20,
   "metadata": {},
   "outputs": [
    {
     "data": {
      "text/plain": [
       "0.05591248870509802"
      ]
     },
     "execution_count": 20,
     "metadata": {},
     "output_type": "execute_result"
    }
   ],
   "source": []
  },
  {
   "cell_type": "code",
   "execution_count": null,
   "metadata": {},
   "outputs": [],
   "source": []
  }
 ],
 "metadata": {
  "kernelspec": {
   "display_name": "Environment (conda_pytorch_p36)",
   "language": "python",
   "name": "conda_pytorch_p36"
  },
  "language_info": {
   "codemirror_mode": {
    "name": "ipython",
    "version": 3
   },
   "file_extension": ".py",
   "mimetype": "text/x-python",
   "name": "python",
   "nbconvert_exporter": "python",
   "pygments_lexer": "ipython3",
   "version": "3.6.5"
  }
 },
 "nbformat": 4,
 "nbformat_minor": 2
}
